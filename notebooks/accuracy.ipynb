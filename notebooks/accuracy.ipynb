{
 "cells": [
  {
   "cell_type": "code",
   "execution_count": 7,
   "id": "d755e2ef",
   "metadata": {},
   "outputs": [
    {
     "name": "stderr",
     "output_type": "stream",
     "text": [
      "c:\\Users\\iamww\\Desktop\\indiaai project\\venv\\Lib\\site-packages\\tqdm\\auto.py:21: TqdmWarning: IProgress not found. Please update jupyter and ipywidgets. See https://ipywidgets.readthedocs.io/en/stable/user_install.html\n",
      "  from .autonotebook import tqdm as notebook_tqdm\n",
      "Device set to use cpu\n"
     ]
    }
   ],
   "source": [
    "import sys\n",
    "sys.path.append(\"../src\")\n",
    "import pandas as pd\n",
    "from classify_assign import classify_and_assign\n",
    "from IPython.display import display"
   ]
  },
  {
   "cell_type": "code",
   "execution_count": 8,
   "id": "a2346bbb",
   "metadata": {},
   "outputs": [
    {
     "data": {
      "text/html": [
       "<div>\n",
       "<style scoped>\n",
       "    .dataframe tbody tr th:only-of-type {\n",
       "        vertical-align: middle;\n",
       "    }\n",
       "\n",
       "    .dataframe tbody tr th {\n",
       "        vertical-align: top;\n",
       "    }\n",
       "\n",
       "    .dataframe thead th {\n",
       "        text-align: right;\n",
       "    }\n",
       "</style>\n",
       "<table border=\"1\" class=\"dataframe\">\n",
       "  <thead>\n",
       "    <tr style=\"text-align: right;\">\n",
       "      <th></th>\n",
       "      <th>complaint</th>\n",
       "      <th>expected_category</th>\n",
       "      <th>expected_department</th>\n",
       "    </tr>\n",
       "  </thead>\n",
       "  <tbody>\n",
       "    <tr>\n",
       "      <th>0</th>\n",
       "      <td>There is a water pipe leakage on main street</td>\n",
       "      <td>Water Issue</td>\n",
       "      <td>Water Department</td>\n",
       "    </tr>\n",
       "    <tr>\n",
       "      <th>1</th>\n",
       "      <td>Power outage in my area since morning</td>\n",
       "      <td>Electricity Issue</td>\n",
       "      <td>Electricity Department</td>\n",
       "    </tr>\n",
       "    <tr>\n",
       "      <th>2</th>\n",
       "      <td>Mosquitoes spreading malaria in my colony</td>\n",
       "      <td>Public Health</td>\n",
       "      <td>Health Department</td>\n",
       "    </tr>\n",
       "    <tr>\n",
       "      <th>3</th>\n",
       "      <td>Garbage not collected for 3 days</td>\n",
       "      <td>Sanitation</td>\n",
       "      <td>Sanitation Department</td>\n",
       "    </tr>\n",
       "  </tbody>\n",
       "</table>\n",
       "</div>"
      ],
      "text/plain": [
       "                                      complaint  expected_category  \\\n",
       "0  There is a water pipe leakage on main street        Water Issue   \n",
       "1         Power outage in my area since morning  Electricity Issue   \n",
       "2     Mosquitoes spreading malaria in my colony      Public Health   \n",
       "3              Garbage not collected for 3 days         Sanitation   \n",
       "\n",
       "      expected_department  \n",
       "0        Water Department  \n",
       "1  Electricity Department  \n",
       "2       Health Department  \n",
       "3   Sanitation Department  "
      ]
     },
     "metadata": {},
     "output_type": "display_data"
    }
   ],
   "source": [
    "data=[\n",
    "    {\n",
    "        \"complaint\": \"There is a water pipe leakage on main street\",\n",
    "        \"expected_category\": \"Water Issue\",\n",
    "        \"expected_department\": \"Water Department\"\n",
    "    },\n",
    "    {\n",
    "        \"complaint\": \"Power outage in my area since morning\",\n",
    "        \"expected_category\": \"Electricity Issue\",\n",
    "        \"expected_department\": \"Electricity Department\"\n",
    "    },\n",
    "    {\n",
    "        \"complaint\": \"Mosquitoes spreading malaria in my colony\",\n",
    "        \"expected_category\": \"Public Health\",\n",
    "        \"expected_department\": \"Health Department\"\n",
    "    },\n",
    "    {   \"complaint\": \"Garbage not collected for 3 days\",\n",
    "        \"expected_category\": \"Sanitation\",\n",
    "        \"expected_department\": \"Sanitation Department\"\n",
    "    }\n",
    "\n",
    "]\n",
    "df =pd.DataFrame(data)\n",
    "display(df)"
   ]
  },
  {
   "cell_type": "code",
   "execution_count": 9,
   "id": "fa25bc3e",
   "metadata": {},
   "outputs": [
    {
     "data": {
      "text/html": [
       "<div>\n",
       "<style scoped>\n",
       "    .dataframe tbody tr th:only-of-type {\n",
       "        vertical-align: middle;\n",
       "    }\n",
       "\n",
       "    .dataframe tbody tr th {\n",
       "        vertical-align: top;\n",
       "    }\n",
       "\n",
       "    .dataframe thead th {\n",
       "        text-align: right;\n",
       "    }\n",
       "</style>\n",
       "<table border=\"1\" class=\"dataframe\">\n",
       "  <thead>\n",
       "    <tr style=\"text-align: right;\">\n",
       "      <th></th>\n",
       "      <th>complaint</th>\n",
       "      <th>expected_category</th>\n",
       "      <th>expected_department</th>\n",
       "      <th>predicted_cgs</th>\n",
       "      <th>predicted_departments</th>\n",
       "    </tr>\n",
       "  </thead>\n",
       "  <tbody>\n",
       "    <tr>\n",
       "      <th>0</th>\n",
       "      <td>There is a water pipe leakage on main street</td>\n",
       "      <td>Water Issue</td>\n",
       "      <td>Water Department</td>\n",
       "      <td>Water Issue</td>\n",
       "      <td>Water Department</td>\n",
       "    </tr>\n",
       "    <tr>\n",
       "      <th>1</th>\n",
       "      <td>Power outage in my area since morning</td>\n",
       "      <td>Electricity Issue</td>\n",
       "      <td>Electricity Department</td>\n",
       "      <td>Electricity Issue</td>\n",
       "      <td>Electricity Department</td>\n",
       "    </tr>\n",
       "    <tr>\n",
       "      <th>2</th>\n",
       "      <td>Mosquitoes spreading malaria in my colony</td>\n",
       "      <td>Public Health</td>\n",
       "      <td>Health Department</td>\n",
       "      <td>Public Health</td>\n",
       "      <td>Health Department</td>\n",
       "    </tr>\n",
       "    <tr>\n",
       "      <th>3</th>\n",
       "      <td>Garbage not collected for 3 days</td>\n",
       "      <td>Sanitation</td>\n",
       "      <td>Sanitation Department</td>\n",
       "      <td>Sanitation</td>\n",
       "      <td>Sanitation Department</td>\n",
       "    </tr>\n",
       "  </tbody>\n",
       "</table>\n",
       "</div>"
      ],
      "text/plain": [
       "                                      complaint  expected_category  \\\n",
       "0  There is a water pipe leakage on main street        Water Issue   \n",
       "1         Power outage in my area since morning  Electricity Issue   \n",
       "2     Mosquitoes spreading malaria in my colony      Public Health   \n",
       "3              Garbage not collected for 3 days         Sanitation   \n",
       "\n",
       "      expected_department      predicted_cgs   predicted_departments  \n",
       "0        Water Department        Water Issue        Water Department  \n",
       "1  Electricity Department  Electricity Issue  Electricity Department  \n",
       "2       Health Department      Public Health       Health Department  \n",
       "3   Sanitation Department         Sanitation   Sanitation Department  "
      ]
     },
     "metadata": {},
     "output_type": "display_data"
    }
   ],
   "source": [
    "predicted_cgs=[]\n",
    "predicted_departments=[]\n",
    "for i,row in df.iterrows():\n",
    "    category,department=classify_and_assign(row['complaint'])\n",
    "    predicted_cgs.append(category)\n",
    "    predicted_departments.append(department)\n",
    "df['predicted_cgs']=predicted_cgs\n",
    "df['predicted_departments']=predicted_departments\n",
    "display(df)    "
   ]
  },
  {
   "cell_type": "code",
   "execution_count": 10,
   "id": "e240a961",
   "metadata": {},
   "outputs": [
    {
     "name": "stdout",
     "output_type": "stream",
     "text": [
      "Category Accuracy:- 100.0%\n",
      "Department Accuracy:- 100.0%\n"
     ]
    }
   ],
   "source": [
    "category_accuracy=(df['predicted_cgs']==df['expected_category']).mean()\n",
    "department_accuracy=(df['predicted_departments']==df['expected_department']).mean()\n",
    "print(f\"Category Accuracy:- {category_accuracy*100:.1f}%\")\n",
    "print(f\"Department Accuracy:- {department_accuracy*100:.1f}%\")\n",
    "\n"
   ]
  }
 ],
 "metadata": {
  "kernelspec": {
   "display_name": "venv (3.13.1)",
   "language": "python",
   "name": "python3"
  },
  "language_info": {
   "codemirror_mode": {
    "name": "ipython",
    "version": 3
   },
   "file_extension": ".py",
   "mimetype": "text/x-python",
   "name": "python",
   "nbconvert_exporter": "python",
   "pygments_lexer": "ipython3",
   "version": "3.13.1"
  }
 },
 "nbformat": 4,
 "nbformat_minor": 5
}
